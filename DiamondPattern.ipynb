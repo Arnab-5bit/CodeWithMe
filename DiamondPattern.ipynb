{
 "cells": [
  {
   "cell_type": "markdown",
   "id": "14c6e8e9",
   "metadata": {},
   "source": [
    "Code : Diamond of stars\n",
    "Send Feedback\n",
    "Print the following pattern for the given number of rows.\n",
    "Note: N is always odd.\n",
    "\n",
    "\n",
    "Pattern for N = 5\n",
    "\n",
    "\n",
    "\n",
    "The dots represent spaces.\n",
    "\n",
    "\n",
    "\n",
    "Input format :\n",
    "N (Total no. of rows and can only be odd)\n",
    "Output format :\n",
    "Pattern in N lines\n",
    "Constraints :\n",
    "1 <= N <= 49\n",
    "Sample Input 1:\n",
    "5\n",
    "Sample Output 1:\n",
    "  *\n",
    " ***\n",
    "*****\n",
    " ***\n",
    "  *\n",
    "Sample Input 2:\n",
    "3\n",
    "Sample Output 2:\n",
    "  *\n",
    " ***\n",
    "  *"
   ]
  },
  {
   "cell_type": "code",
   "execution_count": 2,
   "id": "2241e174",
   "metadata": {},
   "outputs": [
    {
     "name": "stdout",
     "output_type": "stream",
     "text": [
      "17\n",
      "        *\n",
      "       ***\n",
      "      *****\n",
      "     *******\n",
      "    *********\n",
      "   ***********\n",
      "  *************\n",
      " ***************\n",
      "*****************\n",
      " ***************\n",
      "  *************\n",
      "   ***********\n",
      "    *********\n",
      "     *******\n",
      "      *****\n",
      "       ***\n",
      "        *\n"
     ]
    }
   ],
   "source": [
    "n=int(input())\n",
    "i=1\n",
    "n1=(n+1)/2\n",
    "n2=n//2\n",
    "while i<=n1:\n",
    "    spaces=1\n",
    "    while spaces<=(n1-i):\n",
    "        print(\" \",end='')\n",
    "        spaces=spaces+1\n",
    "    stars=1\n",
    "    while stars<=(2*i-1):\n",
    "        print(\"*\",end='')\n",
    "        stars=stars+1\n",
    "    print()\n",
    "    i=i+1\n",
    "j=n2\n",
    "while j>=1:\n",
    "    spaces=1\n",
    "    while spaces<= n2-j+1:\n",
    "        print(\" \",end='')\n",
    "        spaces=spaces+1\n",
    "    stars=1\n",
    "    while stars<=2*j-1:\n",
    "        print(\"*\",end='')\n",
    "        stars=stars+1\n",
    "    print()\n",
    "    j=j-1\n",
    "    "
   ]
  },
  {
   "cell_type": "code",
   "execution_count": null,
   "id": "250e695b",
   "metadata": {},
   "outputs": [],
   "source": []
  },
  {
   "cell_type": "code",
   "execution_count": null,
   "id": "fffff4bb",
   "metadata": {},
   "outputs": [],
   "source": []
  },
  {
   "cell_type": "code",
   "execution_count": null,
   "id": "eb02350f",
   "metadata": {},
   "outputs": [],
   "source": []
  }
 ],
 "metadata": {
  "kernelspec": {
   "display_name": "Python 3 (ipykernel)",
   "language": "python",
   "name": "python3"
  },
  "language_info": {
   "codemirror_mode": {
    "name": "ipython",
    "version": 3
   },
   "file_extension": ".py",
   "mimetype": "text/x-python",
   "name": "python",
   "nbconvert_exporter": "python",
   "pygments_lexer": "ipython3",
   "version": "3.11.4"
  }
 },
 "nbformat": 4,
 "nbformat_minor": 5
}
